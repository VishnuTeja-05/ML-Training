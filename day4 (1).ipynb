{
 "cells": [
  {
   "cell_type": "code",
   "execution_count": 28,
   "id": "9b11c731-af2e-49a4-9241-daeca4fd7c00",
   "metadata": {},
   "outputs": [
    {
     "data": {
      "text/plain": [
       "{101: 4, 102: 7, 'B': 2}"
      ]
     },
     "execution_count": 28,
     "metadata": {},
     "output_type": "execute_result"
    }
   ],
   "source": [
    "# dict\n",
    "d={101:4,102:7,'B':2}\n",
    "d"
   ]
  },
  {
   "cell_type": "code",
   "execution_count": 30,
   "id": "0160a571-9cf0-4e70-9e76-0a7626a9e0a7",
   "metadata": {},
   "outputs": [
    {
     "data": {
      "text/plain": [
       "2"
      ]
     },
     "execution_count": 30,
     "metadata": {},
     "output_type": "execute_result"
    }
   ],
   "source": [
    "d['B']"
   ]
  },
  {
   "cell_type": "code",
   "execution_count": 32,
   "id": "cc5bddca-ef77-4a7e-8d70-889eb4c685e5",
   "metadata": {},
   "outputs": [
    {
     "data": {
      "text/plain": [
       "{101: 40, 102: 7, 'B': 2}"
      ]
     },
     "execution_count": 32,
     "metadata": {},
     "output_type": "execute_result"
    }
   ],
   "source": [
    "d[101]=40\n",
    "d"
   ]
  },
  {
   "cell_type": "code",
   "execution_count": 34,
   "id": "56d964eb-75b1-4faf-adaf-4beaf997c790",
   "metadata": {},
   "outputs": [
    {
     "data": {
      "text/plain": [
       "{101: 40, 102: 99, 'B': 2}"
      ]
     },
     "execution_count": 34,
     "metadata": {},
     "output_type": "execute_result"
    }
   ],
   "source": [
    "d.update({102:99})\n",
    "d"
   ]
  },
  {
   "cell_type": "code",
   "execution_count": 36,
   "id": "64e1d5ce-d411-4f13-9149-51e8a78eca02",
   "metadata": {},
   "outputs": [
    {
     "data": {
      "text/plain": [
       "{101: 40, 102: 99, 'B': 2, 105: 5000}"
      ]
     },
     "execution_count": 36,
     "metadata": {},
     "output_type": "execute_result"
    }
   ],
   "source": [
    "d[105]=5000\n",
    "d"
   ]
  },
  {
   "cell_type": "code",
   "execution_count": 38,
   "id": "eadebe81-7483-49e6-9e18-aa0f4d5ce763",
   "metadata": {},
   "outputs": [
    {
     "data": {
      "text/plain": [
       "{101: 20, 102: 99, 'B': 2, 105: 5000}"
      ]
     },
     "execution_count": 38,
     "metadata": {},
     "output_type": "execute_result"
    }
   ],
   "source": [
    "d[101]=20 # dict does not allow duplicate keys\n",
    "d"
   ]
  },
  {
   "cell_type": "code",
   "execution_count": 40,
   "id": "4529740f-c9e9-46a0-8133-9ddfdadfe644",
   "metadata": {},
   "outputs": [
    {
     "data": {
      "text/plain": [
       "{101: 'India', 102: 99, 'B': 2, 105: 5000}"
      ]
     },
     "execution_count": 40,
     "metadata": {},
     "output_type": "execute_result"
    }
   ],
   "source": [
    "d.update({101:\"India\"})\n",
    "d"
   ]
  },
  {
   "cell_type": "code",
   "execution_count": 42,
   "id": "9412986e-332a-4747-a948-ce3242bc1f5a",
   "metadata": {},
   "outputs": [
    {
     "data": {
      "text/plain": [
       "{101: 'India', 102: 99, 'B': 2, 105: 5000, 106: 'India'}"
      ]
     },
     "execution_count": 42,
     "metadata": {},
     "output_type": "execute_result"
    }
   ],
   "source": [
    "d.update({106:\"India\"}) # dict allow duplicate Values\n",
    "d"
   ]
  },
  {
   "cell_type": "code",
   "execution_count": 44,
   "id": "2c9c0af0-8cf4-4a50-adc5-b6309443d362",
   "metadata": {},
   "outputs": [
    {
     "data": {
      "text/plain": [
       "{101: 'India', 102: 99, 105: 5000, 106: 'India'}"
      ]
     },
     "execution_count": 44,
     "metadata": {},
     "output_type": "execute_result"
    }
   ],
   "source": [
    "del d[\"B\"]\n",
    "d"
   ]
  },
  {
   "cell_type": "code",
   "execution_count": 46,
   "id": "9b652fb8-4c0e-4a6c-b73c-45a61aa61040",
   "metadata": {},
   "outputs": [
    {
     "data": {
      "text/plain": [
       "dict_values(['India', 99, 5000, 'India'])"
      ]
     },
     "execution_count": 46,
     "metadata": {},
     "output_type": "execute_result"
    }
   ],
   "source": [
    "d.values()"
   ]
  },
  {
   "cell_type": "code",
   "execution_count": 48,
   "id": "dcd60191-7c5a-4499-9c98-7973a922c7f7",
   "metadata": {},
   "outputs": [
    {
     "data": {
      "text/plain": [
       "dict_keys([101, 102, 105, 106])"
      ]
     },
     "execution_count": 48,
     "metadata": {},
     "output_type": "execute_result"
    }
   ],
   "source": [
    "d.keys()"
   ]
  },
  {
   "cell_type": "code",
   "execution_count": 50,
   "id": "cba2f21f-9c80-489c-83d7-7bb135c31f50",
   "metadata": {},
   "outputs": [
    {
     "data": {
      "text/plain": [
       "dict_items([(101, 'India'), (102, 99), (105, 5000), (106, 'India')])"
      ]
     },
     "execution_count": 50,
     "metadata": {},
     "output_type": "execute_result"
    }
   ],
   "source": [
    "d.items()"
   ]
  },
  {
   "cell_type": "code",
   "execution_count": 52,
   "id": "9b3bbe77-4a98-479c-9b77-c9b0ced0b6e0",
   "metadata": {},
   "outputs": [
    {
     "data": {
      "text/plain": [
       "{101: 'India', 102: 99, 105: 5000, 106: 'India', 104: [1000, 5000, 6000, 7000]}"
      ]
     },
     "execution_count": 52,
     "metadata": {},
     "output_type": "execute_result"
    }
   ],
   "source": [
    "d[104]=[1000,5000,6000,7000]\n",
    "d"
   ]
  },
  {
   "cell_type": "code",
   "execution_count": 54,
   "id": "b5c2033b-0ed2-4130-91e6-88b1448ec780",
   "metadata": {},
   "outputs": [
    {
     "data": {
      "text/plain": [
       "{101: 'India', 102: 99, 105: 5000, 106: 'India', 104: [1000, 5000, 6000, 7000]}"
      ]
     },
     "execution_count": 54,
     "metadata": {},
     "output_type": "execute_result"
    }
   ],
   "source": [
    "d.update({104:[1000,5000,6000,7000]})\n",
    "d"
   ]
  },
  {
   "cell_type": "code",
   "execution_count": 56,
   "id": "54492816-45be-42ea-85c4-ac8fc8079e4c",
   "metadata": {},
   "outputs": [
    {
     "data": {
      "text/plain": [
       "dict"
      ]
     },
     "execution_count": 56,
     "metadata": {},
     "output_type": "execute_result"
    }
   ],
   "source": [
    "type(d)"
   ]
  },
  {
   "cell_type": "code",
   "execution_count": 58,
   "id": "387b2173-49c1-44c5-bcaa-d28481a70b21",
   "metadata": {},
   "outputs": [
    {
     "data": {
      "text/plain": [
       "int"
      ]
     },
     "execution_count": 58,
     "metadata": {},
     "output_type": "execute_result"
    }
   ],
   "source": [
    "type(102)"
   ]
  },
  {
   "cell_type": "code",
   "execution_count": 60,
   "id": "ff77cbf6-5b07-4455-801e-bbfe512ab890",
   "metadata": {},
   "outputs": [
    {
     "data": {
      "text/plain": [
       "{101: 'India',\n",
       " 102: 99,\n",
       " 105: 5000,\n",
       " 106: 'India',\n",
       " 104: [1000, 5000, 6000, 7000],\n",
       " 103: (30, 40, 50, 60, 70)}"
      ]
     },
     "execution_count": 60,
     "metadata": {},
     "output_type": "execute_result"
    }
   ],
   "source": [
    "d.update({103:(30,40,50,60,70)})\n",
    "d"
   ]
  },
  {
   "cell_type": "code",
   "execution_count": 66,
   "id": "ea2bb5e6-75bf-4049-afa4-aa1bb9ec5efd",
   "metadata": {},
   "outputs": [
    {
     "data": {
      "text/plain": [
       "{101: 'India',\n",
       " 102: 99,\n",
       " 105: 5000,\n",
       " 106: 'India',\n",
       " 104: [1000, 5000, 6000, 7000, 56],\n",
       " 103: (30, 40, 50, 60, 70)}"
      ]
     },
     "execution_count": 66,
     "metadata": {},
     "output_type": "execute_result"
    }
   ],
   "source": [
    "d[104].append(56)\n",
    "d"
   ]
  },
  {
   "cell_type": "code",
   "execution_count": 68,
   "id": "41949a6e-f094-4d7c-adf7-ff1f179e0ec4",
   "metadata": {},
   "outputs": [
    {
     "data": {
      "text/plain": [
       "{101: 'India',\n",
       " 102: 99,\n",
       " 105: {'a': {30, 50, 70},\n",
       "  'b': (1000, 2000, 7000, 9000),\n",
       "  'c': ['K', {'L': [11, 22], 'M': (77, 88)}, 'N']},\n",
       " 106: 'India',\n",
       " 104: [1000, 5000, 6000, 7000, 56],\n",
       " 103: (30, 40, 50, 60, 70)}"
      ]
     },
     "execution_count": 68,
     "metadata": {},
     "output_type": "execute_result"
    }
   ],
   "source": [
    "d[105]={\"a\":{30,50,70}, \"b\":(1000,2000,7000,9000),\"c\":[\"K\",{\"L\":[11,22],\"M\":(77,88)},\"N\"]}\n",
    "d"
   ]
  },
  {
   "cell_type": "code",
   "execution_count": 74,
   "id": "8e974d31-46d4-43a5-8860-59b9327e3b69",
   "metadata": {},
   "outputs": [
    {
     "data": {
      "text/plain": [
       "5000"
      ]
     },
     "execution_count": 74,
     "metadata": {},
     "output_type": "execute_result"
    }
   ],
   "source": [
    "d[104][1]"
   ]
  },
  {
   "cell_type": "code",
   "execution_count": 85,
   "id": "5b4f11cc-cc7c-4556-8b34-144169728b56",
   "metadata": {},
   "outputs": [
    {
     "data": {
      "text/plain": [
       "{'a': {30, 50, 70},\n",
       " 'b': (1000, 2000, 7000, 9000),\n",
       " 'c': ['K', {'L': [11, 22], 'M': (77, 88)}, 'N']}"
      ]
     },
     "execution_count": 85,
     "metadata": {},
     "output_type": "execute_result"
    }
   ],
   "source": [
    "d[105]"
   ]
  },
  {
   "cell_type": "code",
   "execution_count": 96,
   "id": "6ceb3737-8fff-4885-9d77-5163da49d881",
   "metadata": {},
   "outputs": [
    {
     "data": {
      "text/plain": [
       "88"
      ]
     },
     "execution_count": 96,
     "metadata": {},
     "output_type": "execute_result"
    }
   ],
   "source": [
    "d[105]['c'][1]['M'][1]"
   ]
  },
  {
   "cell_type": "code",
   "execution_count": null,
   "id": "b1795c12-5da4-4070-88f3-4b4335420341",
   "metadata": {},
   "outputs": [],
   "source": []
  },
  {
   "cell_type": "code",
   "execution_count": null,
   "id": "829f73be-a613-4c8a-b99b-df3e6e257210",
   "metadata": {},
   "outputs": [],
   "source": []
  }
 ],
 "metadata": {
  "kernelspec": {
   "display_name": "Python [conda env:base] *",
   "language": "python",
   "name": "conda-base-py"
  },
  "language_info": {
   "codemirror_mode": {
    "name": "ipython",
    "version": 3
   },
   "file_extension": ".py",
   "mimetype": "text/x-python",
   "name": "python",
   "nbconvert_exporter": "python",
   "pygments_lexer": "ipython3",
   "version": "3.12.7"
  }
 },
 "nbformat": 4,
 "nbformat_minor": 5
}
