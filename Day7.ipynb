{
  "nbformat": 4,
  "nbformat_minor": 0,
  "metadata": {
    "colab": {
      "provenance": []
    },
    "kernelspec": {
      "name": "python3",
      "display_name": "Python 3"
    },
    "language_info": {
      "name": "python"
    }
  },
  "cells": [
    {
      "cell_type": "code",
      "execution_count": null,
      "metadata": {
        "colab": {
          "base_uri": "https://localhost:8080/"
        },
        "collapsed": true,
        "id": "ZYV5lw18WsmK",
        "outputId": "cabaa22f-85fb-4b29-da3a-9a78ee9b2e15"
      },
      "outputs": [
        {
          "output_type": "stream",
          "name": "stdout",
          "text": [
            "data 5\n",
            "data 6\n",
            "data 7\n",
            "data 8\n",
            "data 9\n"
          ]
        }
      ],
      "source": [
        "x=5\n",
        "while x<10:\n",
        "  print('data',x)\n",
        "  x+=1"
      ]
    },
    {
      "cell_type": "code",
      "source": [
        "y=[23,34,67,7896,43,23]\n",
        "y\n"
      ],
      "metadata": {
        "colab": {
          "base_uri": "https://localhost:8080/"
        },
        "id": "lIcvhEYQW9UC",
        "outputId": "77e0fad8-bdbf-45c8-8eec-55fe1435f2b7"
      },
      "execution_count": null,
      "outputs": [
        {
          "output_type": "execute_result",
          "data": {
            "text/plain": [
              "[23, 34, 67, 7896, 43, 23]"
            ]
          },
          "metadata": {},
          "execution_count": 7
        }
      ]
    },
    {
      "cell_type": "code",
      "source": [
        "for i in y:\n",
        "  print(i)"
      ],
      "metadata": {
        "colab": {
          "base_uri": "https://localhost:8080/"
        },
        "id": "i8-fZ0LCZ_OR",
        "outputId": "1c4e7ab0-d297-485b-c73b-2e49d4ebc07b"
      },
      "execution_count": null,
      "outputs": [
        {
          "output_type": "stream",
          "name": "stdout",
          "text": [
            "23\n",
            "34\n",
            "67\n",
            "7896\n",
            "43\n",
            "23\n"
          ]
        }
      ]
    },
    {
      "cell_type": "code",
      "source": [
        "for i in y:\n",
        "  print(i*10)"
      ],
      "metadata": {
        "colab": {
          "base_uri": "https://localhost:8080/"
        },
        "id": "FR6uzRNaaF_r",
        "outputId": "ecfadd7e-3e4c-4cf5-ac60-b26e179dd019"
      },
      "execution_count": null,
      "outputs": [
        {
          "output_type": "stream",
          "name": "stdout",
          "text": [
            "230\n",
            "340\n",
            "670\n",
            "78960\n",
            "430\n",
            "230\n"
          ]
        }
      ]
    },
    {
      "cell_type": "code",
      "source": [
        "for i in y:\n",
        "  a=i*5+10\n",
        "  print(a)"
      ],
      "metadata": {
        "colab": {
          "base_uri": "https://localhost:8080/",
          "height": 176
        },
        "id": "5Ru30gA0aUN6",
        "outputId": "5d10a3f6-b718-4fdb-8d8b-f2c7a9605c3a"
      },
      "execution_count": null,
      "outputs": [
        {
          "output_type": "error",
          "ename": "AttributeError",
          "evalue": "'int' object has no attribute 'list'",
          "traceback": [
            "\u001b[0;31m---------------------------------------------------------------------------\u001b[0m",
            "\u001b[0;31mAttributeError\u001b[0m                            Traceback (most recent call last)",
            "\u001b[0;32m<ipython-input-18-5b54294a0409>\u001b[0m in \u001b[0;36m<cell line: 1>\u001b[0;34m()\u001b[0m\n\u001b[1;32m      1\u001b[0m \u001b[0;32mfor\u001b[0m \u001b[0mi\u001b[0m \u001b[0;32min\u001b[0m \u001b[0my\u001b[0m\u001b[0;34m:\u001b[0m\u001b[0;34m\u001b[0m\u001b[0;34m\u001b[0m\u001b[0m\n\u001b[1;32m      2\u001b[0m   \u001b[0ma\u001b[0m\u001b[0;34m=\u001b[0m\u001b[0mi\u001b[0m\u001b[0;34m*\u001b[0m\u001b[0;36m5\u001b[0m\u001b[0;34m+\u001b[0m\u001b[0;36m10\u001b[0m\u001b[0;34m\u001b[0m\u001b[0;34m\u001b[0m\u001b[0m\n\u001b[0;32m----> 3\u001b[0;31m   \u001b[0mprint\u001b[0m\u001b[0;34m(\u001b[0m\u001b[0ma\u001b[0m\u001b[0;34m.\u001b[0m\u001b[0mlist\u001b[0m\u001b[0;34m)\u001b[0m\u001b[0;34m\u001b[0m\u001b[0;34m\u001b[0m\u001b[0m\n\u001b[0m",
            "\u001b[0;31mAttributeError\u001b[0m: 'int' object has no attribute 'list'"
          ]
        }
      ]
    },
    {
      "cell_type": "code",
      "source": [
        "l=[]\n",
        "for i in y:\n",
        "  l.append(i*5+10)\n",
        "\n"
      ],
      "metadata": {
        "id": "PbrYHRCca6iP"
      },
      "execution_count": null,
      "outputs": []
    },
    {
      "cell_type": "code",
      "source": [
        "print(l)"
      ],
      "metadata": {
        "colab": {
          "base_uri": "https://localhost:8080/"
        },
        "id": "85NC4dYUbzB9",
        "outputId": "93006fd7-7717-45e2-e86d-3edebd5b60d0"
      },
      "execution_count": null,
      "outputs": [
        {
          "output_type": "stream",
          "name": "stdout",
          "text": [
            "[125, 180, 345, 39490, 225, 125]\n"
          ]
        }
      ]
    },
    {
      "cell_type": "code",
      "source": [
        "num=[23,45,78,90,34,56,67,23,1,2,45,67,23,134,667]"
      ],
      "metadata": {
        "id": "qhEB2qiHb8cf"
      },
      "execution_count": null,
      "outputs": []
    },
    {
      "cell_type": "code",
      "source": [
        "num"
      ],
      "metadata": {
        "colab": {
          "base_uri": "https://localhost:8080/"
        },
        "id": "cObm5ZHZddtj",
        "outputId": "63f18f99-d314-44b5-f74b-a8397631b758"
      },
      "execution_count": null,
      "outputs": [
        {
          "output_type": "execute_result",
          "data": {
            "text/plain": [
              "[23, 45, 78, 90, 34, 56, 67, 23, 1, 2, 45, 67, 23, 134, 667]"
            ]
          },
          "metadata": {},
          "execution_count": 36
        }
      ]
    },
    {
      "cell_type": "code",
      "source": [
        "odd =[]\n",
        "even =[]\n",
        "for i in num:\n",
        "  if i %2!=0:\n",
        "    odd.append(i)\n",
        "  else:\n",
        "    even.append(i)"
      ],
      "metadata": {
        "id": "EFRdGB5rdemo"
      },
      "execution_count": null,
      "outputs": []
    },
    {
      "cell_type": "code",
      "source": [
        "print(odd)\n",
        "print(even)"
      ],
      "metadata": {
        "colab": {
          "base_uri": "https://localhost:8080/"
        },
        "id": "x-kZmAg1d0-N",
        "outputId": "67398743-60bb-42c7-ea0b-7e8c40ffff10"
      },
      "execution_count": null,
      "outputs": [
        {
          "output_type": "stream",
          "name": "stdout",
          "text": [
            "[23, 45, 67, 23, 1, 45, 67, 23, 667]\n",
            "[78, 90, 34, 56, 2, 134]\n"
          ]
        }
      ]
    },
    {
      "cell_type": "code",
      "source": [
        "num=[23, 45, 78, 90, 38, 56, 68, 23, 1, 8, 45, 67, 83, 134, 687]"
      ],
      "metadata": {
        "id": "YuHMX7bjfRRf"
      },
      "execution_count": null,
      "outputs": []
    },
    {
      "cell_type": "code",
      "source": [
        "num"
      ],
      "metadata": {
        "colab": {
          "base_uri": "https://localhost:8080/"
        },
        "id": "Di1c4myHfiM_",
        "outputId": "2bb6f027-e5dd-419f-b3eb-403401df80b9"
      },
      "execution_count": null,
      "outputs": [
        {
          "output_type": "execute_result",
          "data": {
            "text/plain": [
              "[23, 45, 78, 90, 38, 56, 68, 23, 1, 8, 45, 67, 83, 134, 687]"
            ]
          },
          "metadata": {},
          "execution_count": 45
        }
      ]
    },
    {
      "cell_type": "code",
      "source": [
        "t=str(23)\n",
        "t"
      ],
      "metadata": {
        "colab": {
          "base_uri": "https://localhost:8080/",
          "height": 36
        },
        "id": "guRBto1phJyu",
        "outputId": "69208787-42ae-4c51-e379-cfbc92be9b5b"
      },
      "execution_count": null,
      "outputs": [
        {
          "output_type": "execute_result",
          "data": {
            "text/plain": [
              "'23'"
            ],
            "application/vnd.google.colaboratory.intrinsic+json": {
              "type": "string"
            }
          },
          "metadata": {},
          "execution_count": 57
        }
      ]
    },
    {
      "cell_type": "code",
      "source": [
        "a=t.replace('2','5')\n",
        "t\n",
        "int(a)"
      ],
      "metadata": {
        "colab": {
          "base_uri": "https://localhost:8080/"
        },
        "collapsed": true,
        "id": "TSjQVyklhjEV",
        "outputId": "46453e8a-db72-4dd2-e229-607d9d1000b2"
      },
      "execution_count": null,
      "outputs": [
        {
          "output_type": "execute_result",
          "data": {
            "text/plain": [
              "53"
            ]
          },
          "metadata": {},
          "execution_count": 61
        }
      ]
    },
    {
      "cell_type": "code",
      "source": [
        "h=[]\n",
        "for i in num:\n",
        "  a=str(i)\n",
        "  b=a.replace('8','5')\n",
        "  c=int(b)\n",
        "  h.append(c)\n"
      ],
      "metadata": {
        "id": "xyyrY_I8hmhE"
      },
      "execution_count": null,
      "outputs": []
    },
    {
      "cell_type": "code",
      "source": [
        "print(h)"
      ],
      "metadata": {
        "colab": {
          "base_uri": "https://localhost:8080/"
        },
        "id": "A-4Lk2f2jWSN",
        "outputId": "71fe93e9-2394-46e0-99a0-edce947ffc1c"
      },
      "execution_count": null,
      "outputs": [
        {
          "output_type": "stream",
          "name": "stdout",
          "text": [
            "[23, 45, 75, 90, 35, 56, 65, 23, 1, 5, 45, 67, 53, 134, 657]\n"
          ]
        }
      ]
    },
    {
      "cell_type": "code",
      "source": [
        "'PrashAnth'"
      ],
      "metadata": {
        "colab": {
          "base_uri": "https://localhost:8080/",
          "height": 36
        },
        "id": "FdhTM9WfjYGS",
        "outputId": "d877783b-892d-4ffa-b283-1f4ddc1a99e5"
      },
      "execution_count": null,
      "outputs": [
        {
          "output_type": "execute_result",
          "data": {
            "text/plain": [
              "'PrashAnth'"
            ],
            "application/vnd.google.colaboratory.intrinsic+json": {
              "type": "string"
            }
          },
          "metadata": {},
          "execution_count": 64
        }
      ]
    },
    {
      "cell_type": "code",
      "source": [
        "x='SoftwareO'\n",
        "y=''\n",
        "for i in x :\n",
        "  if i.lower() not in ('s','o'):\n",
        "    y+=i"
      ],
      "metadata": {
        "id": "8Faq1iyekACd"
      },
      "execution_count": null,
      "outputs": []
    },
    {
      "cell_type": "code",
      "source": [
        "print(y)"
      ],
      "metadata": {
        "colab": {
          "base_uri": "https://localhost:8080/"
        },
        "id": "yDJRtSBBlMCa",
        "outputId": "ddd5fddb-8bba-4685-be4b-ce6667de008f"
      },
      "execution_count": null,
      "outputs": [
        {
          "output_type": "stream",
          "name": "stdout",
          "text": [
            "ftware\n"
          ]
        }
      ]
    },
    {
      "cell_type": "code",
      "source": [],
      "metadata": {
        "id": "0I7txioflObl"
      },
      "execution_count": null,
      "outputs": []
    }
  ]
}