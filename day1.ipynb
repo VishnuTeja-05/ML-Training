{
 "cells": [
  {
   "cell_type": "code",
   "execution_count": 2,
   "id": "19ae50f7-00b9-4832-a7e7-e877781e3630",
   "metadata": {},
   "outputs": [
    {
     "name": "stdout",
     "output_type": "stream",
     "text": [
      "G Vishnu Teja\n",
      "18\n",
      "True\n",
      "5.9\n"
     ]
    }
   ],
   "source": [
    "# Basics Of Python\n",
    "# Defining Variables and Assigning Values to \n",
    "name=\"G Vishnu Teja\"\n",
    "age=18\n",
    "Student=True\n",
    "Hight=5.9\n",
    "print(name)\n",
    "print(age)\n",
    "print(Student)\n",
    "print(Hight)"
   ]
  },
  {
   "cell_type": "code",
   "execution_count": 3,
   "id": "153ae5e6-0aa3-4242-9b3d-d861405186c2",
   "metadata": {},
   "outputs": [
    {
     "name": "stdout",
     "output_type": "stream",
     "text": [
      "20\n",
      "<class 'int'>\n"
     ]
    }
   ],
   "source": [
    "# Datatypes in Python\n",
    "#integer\n",
    "a=20\n",
    "print(a)\n",
    "print(type(a))"
   ]
  },
  {
   "cell_type": "code",
   "execution_count": 4,
   "id": "55fe576f-7a7c-4ddc-b717-f4a31e7c96ce",
   "metadata": {},
   "outputs": [
    {
     "name": "stdout",
     "output_type": "stream",
     "text": [
      "20.9\n",
      "<class 'float'>\n"
     ]
    }
   ],
   "source": [
    "#Float\n",
    "a=20.9\n",
    "print(a)\n",
    "print(type(a))"
   ]
  },
  {
   "cell_type": "code",
   "execution_count": 5,
   "id": "fa1dfda6-73c7-4ed1-ae2c-aeb77a664b56",
   "metadata": {},
   "outputs": [
    {
     "name": "stdout",
     "output_type": "stream",
     "text": [
      "Malla Reddy University\n",
      "<class 'str'>\n"
     ]
    }
   ],
   "source": [
    "#String\n",
    "a=\"Malla Reddy University\"\n",
    "print(a)\n",
    "print(type(a))"
   ]
  },
  {
   "cell_type": "code",
   "execution_count": 6,
   "id": "f528411d-c597-47e1-a656-15d28fa13015",
   "metadata": {},
   "outputs": [
    {
     "name": "stdout",
     "output_type": "stream",
     "text": [
      "True\n",
      "<class 'bool'>\n"
     ]
    }
   ],
   "source": [
    "#Boolean\n",
    "a=True\n",
    "print(a)\n",
    "print(type(a))"
   ]
  },
  {
   "cell_type": "code",
   "execution_count": 7,
   "id": "38a7ddab-4a30-4ca5-8b18-9ce5fa13103d",
   "metadata": {},
   "outputs": [
    {
     "name": "stdout",
     "output_type": "stream",
     "text": [
      "(2+5j)\n",
      "<class 'complex'>\n"
     ]
    }
   ],
   "source": [
    "#Complex\n",
    "a=2+5j\n",
    "print(a)\n",
    "print(type(a))"
   ]
  },
  {
   "cell_type": "code",
   "execution_count": null,
   "id": "4232a390-efc6-4cdb-b3e9-82667c510c77",
   "metadata": {},
   "outputs": [],
   "source": []
  }
 ],
 "metadata": {
  "kernelspec": {
   "display_name": "Python 3 (ipykernel)",
   "language": "python",
   "name": "python3"
  },
  "language_info": {
   "codemirror_mode": {
    "name": "ipython",
    "version": 3
   },
   "file_extension": ".py",
   "mimetype": "text/x-python",
   "name": "python",
   "nbconvert_exporter": "python",
   "pygments_lexer": "ipython3",
   "version": "3.12.7"
  }
 },
 "nbformat": 4,
 "nbformat_minor": 5
}
