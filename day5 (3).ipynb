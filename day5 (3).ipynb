{
 "cells": [
  {
   "cell_type": "code",
   "execution_count": 15,
   "id": "c52f1574-28fb-4027-ac0c-50e7236cffc6",
   "metadata": {},
   "outputs": [
    {
     "name": "stdout",
     "output_type": "stream",
     "text": [
      "x is Positive Number\n"
     ]
    }
   ],
   "source": [
    "# Conditional Statements\n",
    "x=55\n",
    "if x>0:\n",
    "    print(\"x is Positive Number\")\n",
    "elif x<0:\n",
    "    print(\"x is Negative Number\")\n",
    "else:\n",
    "    print(\"x is Zero\")"
   ]
  },
  {
   "cell_type": "code",
   "execution_count": 23,
   "id": "3ea48136-5869-4a51-ba15-89f4ac35642e",
   "metadata": {},
   "outputs": [
    {
     "data": {
      "text/plain": [
       "'HELLOWORLD'"
      ]
     },
     "execution_count": 23,
     "metadata": {},
     "output_type": "execute_result"
    }
   ],
   "source": [
    "# String functions\n",
    "a=\"HelloWorld\"\n",
    "a.upper()"
   ]
  },
  {
   "cell_type": "code",
   "execution_count": 25,
   "id": "a973a79d-f810-4cb7-8001-1d5597588563",
   "metadata": {},
   "outputs": [
    {
     "data": {
      "text/plain": [
       "True"
      ]
     },
     "execution_count": 25,
     "metadata": {},
     "output_type": "execute_result"
    }
   ],
   "source": [
    "a=\"HelloWorld\"\n",
    "a.isalpha()"
   ]
  },
  {
   "cell_type": "code",
   "execution_count": 43,
   "id": "2c0218df-498c-4b4a-b6aa-340af766e911",
   "metadata": {},
   "outputs": [
    {
     "name": "stdin",
     "output_type": "stream",
     "text": [
      " hig\n"
     ]
    },
    {
     "name": "stdout",
     "output_type": "stream",
     "text": [
      "yes\n"
     ]
    }
   ],
   "source": [
    "x=str(input())\n",
    "if x[0]==\"t\" or x[0]==\"T\":\n",
    "    print(\"yes\")\n",
    "elif x[0]==\"h\" or x[0]==\"H\":\n",
    "    print(\"yes\")\n",
    "elif x[0]==\"m\" or x[0]==\"M\":\n",
    "    print(\"yes\")\n",
    "else:\n",
    "    print(\"no\")"
   ]
  },
  {
   "cell_type": "code",
   "execution_count": null,
   "id": "278e079b-5991-4add-ba78-121c43dbb9c9",
   "metadata": {},
   "outputs": [],
   "source": [
    "x=str(input())\n",
    "if x[0].lower() in (\"s\",\"m\",\"h\") :\n",
    "    print(\"yes\")\n",
    "else:\n",
    "    print(\"no\")\n"
   ]
  },
  {
   "cell_type": "code",
   "execution_count": null,
   "id": "3faf76ab-51de-4a13-8353-cb480096a490",
   "metadata": {},
   "outputs": [],
   "source": []
  }
 ],
 "metadata": {
  "kernelspec": {
   "display_name": "Python [conda env:base] *",
   "language": "python",
   "name": "conda-base-py"
  },
  "language_info": {
   "codemirror_mode": {
    "name": "ipython",
    "version": 3
   },
   "file_extension": ".py",
   "mimetype": "text/x-python",
   "name": "python",
   "nbconvert_exporter": "python",
   "pygments_lexer": "ipython3",
   "version": "3.12.7"
  }
 },
 "nbformat": 4,
 "nbformat_minor": 5
}
