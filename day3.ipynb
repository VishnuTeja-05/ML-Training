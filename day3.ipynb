{
 "cells": [
  {
   "cell_type": "code",
   "execution_count": 20,
   "id": "34900334-644f-4a84-a698-1febb88362e0",
   "metadata": {},
   "outputs": [
    {
     "data": {
      "text/plain": [
       "list"
      ]
     },
     "execution_count": 20,
     "metadata": {},
     "output_type": "execute_result"
    }
   ],
   "source": [
    "# List in python\n",
    "# list Methods and it is mutable\n",
    "\"\"\"append\n",
    "insert\n",
    "pop\n",
    "remove\n",
    "clear\n",
    "count\n",
    "slicing\n",
    "extend\n",
    "\"\"\"\n",
    "A = [20,30,\"World\",True,False,2.4,\"hyd\"]\n",
    "type(A)"
   ]
  },
  {
   "cell_type": "code",
   "execution_count": 2,
   "id": "33c2fcd1-1687-4669-9c52-4c1ec562a502",
   "metadata": {},
   "outputs": [
    {
     "data": {
      "text/plain": [
       "[20, 30, 'World', True, False, 2.4, 'hyd', 'Hello']"
      ]
     },
     "execution_count": 2,
     "metadata": {},
     "output_type": "execute_result"
    }
   ],
   "source": [
    "# append function\n",
    "A = [20,30,\"World\",True,False,2.4,\"hyd\"]\n",
    "A.append(\"Hello\")\n",
    "A"
   ]
  },
  {
   "cell_type": "code",
   "execution_count": 3,
   "id": "2eaf8aa4-e570-42a6-b21c-ca4e56e5d17d",
   "metadata": {},
   "outputs": [
    {
     "data": {
      "text/plain": [
       "[20, 30, 'Hello', 'World', True, False, 2.4, 'hyd']"
      ]
     },
     "execution_count": 3,
     "metadata": {},
     "output_type": "execute_result"
    }
   ],
   "source": [
    "# insert\n",
    "A = [20,30,\"World\",True,False,2.4,\"hyd\"]\n",
    "A.insert(2,\"Hello\")\n",
    "A"
   ]
  },
  {
   "cell_type": "code",
   "execution_count": 4,
   "id": "41a59c7e-18c5-4ffe-b4df-832f36cd1323",
   "metadata": {},
   "outputs": [
    {
     "data": {
      "text/plain": [
       "[20, 30, 'World', True, False, 2.4]"
      ]
     },
     "execution_count": 4,
     "metadata": {},
     "output_type": "execute_result"
    }
   ],
   "source": [
    "# pop function\n",
    "A = [20,30,\"World\",True,False,2.4,\"hyd\"]\n",
    "A.pop(6)\n",
    "A"
   ]
  },
  {
   "cell_type": "code",
   "execution_count": 6,
   "id": "1627f166-2a90-4d1c-8cc3-8277661ec209",
   "metadata": {},
   "outputs": [
    {
     "data": {
      "text/plain": [
       "[20, 30, 'World', True, False, 2.4]"
      ]
     },
     "execution_count": 6,
     "metadata": {},
     "output_type": "execute_result"
    }
   ],
   "source": [
    "# remove function\n",
    "A = [20,30,\"World\",True,False,2.4,\"hyd\"]\n",
    "A.remove(\"hyd\")\n",
    "A"
   ]
  },
  {
   "cell_type": "code",
   "execution_count": 7,
   "id": "7b6008c2-7c34-44ab-af58-42ba8ca07b60",
   "metadata": {},
   "outputs": [
    {
     "data": {
      "text/plain": [
       "[20, 30, 'World', True, False, 2.4, 'hyd', 'Hello', 5.5]"
      ]
     },
     "execution_count": 7,
     "metadata": {},
     "output_type": "execute_result"
    }
   ],
   "source": [
    "# extend function\n",
    "A = [20,30,\"World\",True,False,2.4,\"hyd\"]\n",
    "A.extend([\"Hello\",5.5])\n",
    "A"
   ]
  },
  {
   "cell_type": "code",
   "execution_count": 9,
   "id": "4579bdf3-1e89-4194-a46b-bb299ac74dc6",
   "metadata": {},
   "outputs": [
    {
     "data": {
      "text/plain": [
       "[]"
      ]
     },
     "execution_count": 9,
     "metadata": {},
     "output_type": "execute_result"
    }
   ],
   "source": [
    "# Clear function\n",
    "A = [20,30,\"World\",True,False,2.4,\"hyd\"]\n",
    "A.clear()\n",
    "A"
   ]
  },
  {
   "cell_type": "code",
   "execution_count": 13,
   "id": "c20457b8-ac4c-4087-abc7-adc21a0af830",
   "metadata": {},
   "outputs": [
    {
     "data": {
      "text/plain": [
       "2"
      ]
     },
     "execution_count": 13,
     "metadata": {},
     "output_type": "execute_result"
    }
   ],
   "source": [
    "# Count function\n",
    "A = [20,30,\"World\",True,False,2.4,\"hyd\",\"World\"]\n",
    "A.count(\"World\")\n"
   ]
  },
  {
   "cell_type": "code",
   "execution_count": 15,
   "id": "4c5a7e43-a09a-47e3-bb7e-87ea73a5a1a3",
   "metadata": {},
   "outputs": [
    {
     "data": {
      "text/plain": [
       "[30, 'World', True]"
      ]
     },
     "execution_count": 15,
     "metadata": {},
     "output_type": "execute_result"
    }
   ],
   "source": [
    "# Slicing\n",
    "A = [20,30,\"World\",True,False,2.4,\"hyd\"]\n",
    "A[1:4]\n"
   ]
  },
  {
   "cell_type": "code",
   "execution_count": 16,
   "id": "6c0e0897-15d2-4e64-831b-c3da88e1dec4",
   "metadata": {},
   "outputs": [
    {
     "data": {
      "text/plain": [
       "[30, 'World']"
      ]
     },
     "execution_count": 16,
     "metadata": {},
     "output_type": "execute_result"
    }
   ],
   "source": [
    "# Slicing\n",
    "A = [20,30,\"World\",True,False,2.4,\"hyd\"]\n",
    "A[1:3]"
   ]
  },
  {
   "cell_type": "code",
   "execution_count": 17,
   "id": "90374378-8fd8-471c-9504-84976cbbd167",
   "metadata": {},
   "outputs": [
    {
     "data": {
      "text/plain": [
       "[]"
      ]
     },
     "execution_count": 17,
     "metadata": {},
     "output_type": "execute_result"
    }
   ],
   "source": [
    "# Slicing\n",
    "A = [20,30,\"World\",True,False,2.4,\"hyd\"]\n",
    "A[-1:4]\n"
   ]
  },
  {
   "cell_type": "code",
   "execution_count": 18,
   "id": "869a4644-c340-4ff3-8ea1-45dc11fdf8d7",
   "metadata": {},
   "outputs": [
    {
     "data": {
      "text/plain": [
       "[30, 'World']"
      ]
     },
     "execution_count": 18,
     "metadata": {},
     "output_type": "execute_result"
    }
   ],
   "source": [
    "# Slicing\n",
    "A = [20,30,\"World\",True,False,2.4,\"hyd\"]\n",
    "A[1:-4]\n"
   ]
  },
  {
   "cell_type": "code",
   "execution_count": 19,
   "id": "465d1d31-2f31-448e-ac77-ec053ff4b331",
   "metadata": {},
   "outputs": [
    {
     "data": {
      "text/plain": [
       "tuple"
      ]
     },
     "execution_count": 19,
     "metadata": {},
     "output_type": "execute_result"
    }
   ],
   "source": [
    "# Tuple in Python\n",
    "# Methods and it is immutable\n",
    "A = (20,30,\"World\",True,False,2.4,\"hyd\")\n",
    "type(A)"
   ]
  },
  {
   "cell_type": "code",
   "execution_count": 21,
   "id": "2aa20c3a-aad3-4536-914c-e9f367bd3378",
   "metadata": {},
   "outputs": [
    {
     "data": {
      "text/plain": [
       "2"
      ]
     },
     "execution_count": 21,
     "metadata": {},
     "output_type": "execute_result"
    }
   ],
   "source": [
    "# Count function\n",
    "A = (20,30,\"World\",True,False,2.4,\"hyd\",3,20,30)\n",
    "A.count(30)"
   ]
  },
  {
   "cell_type": "code",
   "execution_count": 22,
   "id": "f2f68f49-9ac3-49ec-9a7b-e1322c039ab8",
   "metadata": {},
   "outputs": [
    {
     "data": {
      "text/plain": [
       "4"
      ]
     },
     "execution_count": 22,
     "metadata": {},
     "output_type": "execute_result"
    }
   ],
   "source": [
    "A = (20,30,\"World\",True,False,2.4,\"hyd\",20,30)\n",
    "A.index(False)"
   ]
  },
  {
   "cell_type": "code",
   "execution_count": 23,
   "id": "226d802c-1414-47e8-895c-9af1c21e0f08",
   "metadata": {},
   "outputs": [
    {
     "data": {
      "text/plain": [
       "set"
      ]
     },
     "execution_count": 23,
     "metadata": {},
     "output_type": "execute_result"
    }
   ],
   "source": [
    "# Sets in python\n",
    "# Methods of sets and it is Mutable\n",
    "\"\"\"\n",
    "Add\n",
    "remove\n",
    "union\n",
    "intersection\n",
    "difference\n",
    "symmetric_difference\n",
    "\"\"\"\n",
    "A = {20,30,\"World\",True,False,2.4,\"hyd\",20,30}\n",
    "type(A)"
   ]
  },
  {
   "cell_type": "code",
   "execution_count": 26,
   "id": "161551f9-cfff-4ae4-b688-dac59d1b7e7c",
   "metadata": {},
   "outputs": [
    {
     "data": {
      "text/plain": [
       "{2.4, 20, 30, 70, False, True, 'World', 'hyd'}"
      ]
     },
     "execution_count": 26,
     "metadata": {},
     "output_type": "execute_result"
    }
   ],
   "source": [
    "# Add function\n",
    "A = {20,30,\"World\",True,False,2.4,\"hyd\",20,30}\n",
    "A.add(70)\n",
    "A"
   ]
  },
  {
   "cell_type": "code",
   "execution_count": 28,
   "id": "003b7e08-6248-4816-a126-af024bbe93f0",
   "metadata": {},
   "outputs": [
    {
     "data": {
      "text/plain": [
       "{2.4, 20, False, True, 'World', 'hyd'}"
      ]
     },
     "execution_count": 28,
     "metadata": {},
     "output_type": "execute_result"
    }
   ],
   "source": [
    "# remove fnction\n",
    "A = {20,30,\"World\",True,False,2.4,\"hyd\",20,30}\n",
    "A.remove(30)\n",
    "A"
   ]
  },
  {
   "cell_type": "code",
   "execution_count": 34,
   "id": "aa91a807-653d-46cd-8af9-7958d5f72603",
   "metadata": {},
   "outputs": [
    {
     "data": {
      "text/plain": [
       "{2.4, 20, 30, 35, 40, 50, 60, 80, 90}"
      ]
     },
     "execution_count": 34,
     "metadata": {},
     "output_type": "execute_result"
    }
   ],
   "source": [
    "# Union\n",
    "A = {20,30,35,90,80,2.4,60,20,30}\n",
    "B = {20,50,40,50,40,40,80,80}\n",
    "A.union(B)"
   ]
  },
  {
   "cell_type": "code",
   "execution_count": 35,
   "id": "49a9b3a8-eff5-4684-8da8-a5af6727ed92",
   "metadata": {},
   "outputs": [
    {
     "data": {
      "text/plain": [
       "{20, 80}"
      ]
     },
     "execution_count": 35,
     "metadata": {},
     "output_type": "execute_result"
    }
   ],
   "source": [
    "# intersection\n",
    "A = {20,30,35,90,80,2.4,60,20,30}\n",
    "B = {20,50,40,50,40,40,80,80}\n",
    "A.intersection(B)"
   ]
  },
  {
   "cell_type": "code",
   "execution_count": 36,
   "id": "ab887bce-8a09-47f5-b51b-4374be339c9d",
   "metadata": {},
   "outputs": [
    {
     "data": {
      "text/plain": [
       "{2.4, 30, 35, 60, 90}"
      ]
     },
     "execution_count": 36,
     "metadata": {},
     "output_type": "execute_result"
    }
   ],
   "source": [
    "# difference\n",
    "A = {20,30,35,90,80,2.4,60,20,30}\n",
    "B = {20,50,40,50,40,40,80,80}\n",
    "A.difference(B)"
   ]
  },
  {
   "cell_type": "code",
   "execution_count": 37,
   "id": "9e75940a-420b-4711-9d85-1b5c703d4b7f",
   "metadata": {},
   "outputs": [
    {
     "data": {
      "text/plain": [
       "{2.4, 30, 35, 40, 50, 60, 90}"
      ]
     },
     "execution_count": 37,
     "metadata": {},
     "output_type": "execute_result"
    }
   ],
   "source": [
    "# Symmetric_difference\n",
    "A = {20,30,35,90,80,2.4,60,20,30}\n",
    "B = {20,50,40,50,40,40,80,80}\n",
    "A.symmetric_difference(B)"
   ]
  },
  {
   "cell_type": "code",
   "execution_count": null,
   "id": "9d5d1634-112c-47a8-bf95-262ac6fde11e",
   "metadata": {},
   "outputs": [],
   "source": [
    "# converting set to list\n",
    "A = {20,30,35,90,80,2.4,60,20,30}\n"
   ]
  }
 ],
 "metadata": {
  "kernelspec": {
   "display_name": "Python 3 (ipykernel)",
   "language": "python",
   "name": "python3"
  },
  "language_info": {
   "codemirror_mode": {
    "name": "ipython",
    "version": 3
   },
   "file_extension": ".py",
   "mimetype": "text/x-python",
   "name": "python",
   "nbconvert_exporter": "python",
   "pygments_lexer": "ipython3",
   "version": "3.12.7"
  }
 },
 "nbformat": 4,
 "nbformat_minor": 5
}
