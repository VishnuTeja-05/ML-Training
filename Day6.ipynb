{
 "cells": [
  {
   "cell_type": "code",
   "execution_count": 4,
   "id": "a541102f-e24c-4b64-952f-a5ad2362ac60",
   "metadata": {},
   "outputs": [],
   "source": [
    "x=5\n",
    "while x>10:\n",
    "    print('data')"
   ]
  },
  {
   "cell_type": "code",
   "execution_count": null,
   "id": "45f4f09e-49a5-434e-a74a-83ce581371db",
   "metadata": {},
   "outputs": [],
   "source": [
    "x=5\n",
    "while x>10:\n",
    "    print('data')"
   ]
  },
  {
   "cell_type": "code",
   "execution_count": 6,
   "id": "fe580bab-23e8-4ad0-97b1-c2992ba0160e",
   "metadata": {},
   "outputs": [
    {
     "data": {
      "text/plain": [
       "[4, 2, 5, 8, 9, 1]"
      ]
     },
     "execution_count": 6,
     "metadata": {},
     "output_type": "execute_result"
    }
   ],
   "source": [
    "y=[4,2,5,8,9,1]\n",
    "y"
   ]
  },
  {
   "cell_type": "code",
   "execution_count": 8,
   "id": "4d8415a2-ca49-4bc6-a514-79dae9951d76",
   "metadata": {},
   "outputs": [
    {
     "data": {
      "text/plain": [
       "[4, 2, 5, 8, 9, 1]"
      ]
     },
     "execution_count": 8,
     "metadata": {},
     "output_type": "execute_result"
    }
   ],
   "source": [
    "y"
   ]
  },
  {
   "cell_type": "code",
   "execution_count": 10,
   "id": "8cd133c3-f496-45fc-a1bd-1ec5b0bbe4b8",
   "metadata": {},
   "outputs": [
    {
     "name": "stdout",
     "output_type": "stream",
     "text": [
      "240\n",
      "120\n",
      "300\n",
      "480\n",
      "540\n",
      "60\n"
     ]
    }
   ],
   "source": [
    "for t in y:\n",
    "    print(t*60)"
   ]
  },
  {
   "cell_type": "code",
   "execution_count": 12,
   "id": "94b31d1c-e6e0-494d-9897-3ce1e4fb263d",
   "metadata": {},
   "outputs": [
    {
     "name": "stdout",
     "output_type": "stream",
     "text": [
      "280\n",
      "150\n",
      "345\n",
      "540\n",
      "605\n",
      "85\n"
     ]
    }
   ],
   "source": [
    "for t in y:\n",
    "    print(t*65+20)"
   ]
  },
  {
   "cell_type": "code",
   "execution_count": 18,
   "id": "797b2887-288c-469c-82ec-90a9a781f387",
   "metadata": {},
   "outputs": [
    {
     "name": "stdout",
     "output_type": "stream",
     "text": [
      "272\n",
      "116\n",
      "350\n",
      "584\n",
      "662\n",
      "38\n"
     ]
    }
   ],
   "source": [
    "for i in y:\n",
    "    print(i*78+10-50)"
   ]
  },
  {
   "cell_type": "code",
   "execution_count": 20,
   "id": "2431b7eb-e917-43d8-8b73-64336a39fe84",
   "metadata": {},
   "outputs": [],
   "source": [
    "z=[]\n",
    "for i in y:\n",
    "    z.append(i*5+10)"
   ]
  },
  {
   "cell_type": "code",
   "execution_count": 22,
   "id": "f73e7efb-117d-4aa5-ab9c-77129079f940",
   "metadata": {},
   "outputs": [
    {
     "data": {
      "text/plain": [
       "[30, 20, 35, 50, 55, 15]"
      ]
     },
     "execution_count": 22,
     "metadata": {},
     "output_type": "execute_result"
    }
   ],
   "source": [
    "z"
   ]
  },
  {
   "cell_type": "code",
   "execution_count": 26,
   "id": "2005b4b3-a922-42b1-afab-f95da49fd3f3",
   "metadata": {},
   "outputs": [
    {
     "data": {
      "text/plain": [
       "[45, 67, 88, 95, 34, 28, 15, 81]"
      ]
     },
     "execution_count": 26,
     "metadata": {},
     "output_type": "execute_result"
    }
   ],
   "source": [
    "num=[45,67,88,95,34,28,15,81]\n",
    "num"
   ]
  },
  {
   "cell_type": "code",
   "execution_count": 36,
   "id": "c070cd3e-64c7-48f0-8a38-cbdf8f3657ce",
   "metadata": {},
   "outputs": [
    {
     "name": "stdout",
     "output_type": "stream",
     "text": [
      "[81]\n",
      "[88, 34, 28]\n"
     ]
    }
   ],
   "source": [
    "odd=[]\n",
    "even=[]\n",
    "for i in num:\n",
    "   if i %2==0:\n",
    "    even.append(i)\n",
    "else:\n",
    "    odd.append(i)\n",
    "print(odd)\n",
    "print(even)\n",
    "    \n"
   ]
  },
  {
   "cell_type": "code",
   "execution_count": 45,
   "id": "3fa1644a-1640-4ae5-9f2c-b494d9cc49b3",
   "metadata": {},
   "outputs": [],
   "source": [
    "a=[]\n",
    "b=[]\n",
    "for i in num:\n",
    "    if i%2==0:\n",
    "        a.append(i)\n",
    "    else:\n",
    "        b.append(i)"
   ]
  },
  {
   "cell_type": "code",
   "execution_count": 47,
   "id": "dc6a2635-397d-43bc-b9d4-4f2ac82d679f",
   "metadata": {},
   "outputs": [
    {
     "data": {
      "text/plain": [
       "[88, 34, 28]"
      ]
     },
     "execution_count": 47,
     "metadata": {},
     "output_type": "execute_result"
    }
   ],
   "source": [
    "a"
   ]
  },
  {
   "cell_type": "code",
   "execution_count": 49,
   "id": "39735ee6-d80f-4a45-8375-843f534855d3",
   "metadata": {},
   "outputs": [
    {
     "data": {
      "text/plain": [
       "[45, 67, 95, 15, 81]"
      ]
     },
     "execution_count": 49,
     "metadata": {},
     "output_type": "execute_result"
    }
   ],
   "source": [
    "b"
   ]
  },
  {
   "cell_type": "code",
   "execution_count": 61,
   "id": "c87aea60-f38f-4dcc-97f6-8204562b236d",
   "metadata": {},
   "outputs": [],
   "source": [
    "h=[]\n",
    "for i in num:\n",
    "    a=str(i)\n",
    "    b=a.replace('8','5')\n",
    "    c=int(b)\n",
    "    h.append(c)\n",
    "    "
   ]
  },
  {
   "cell_type": "code",
   "execution_count": 63,
   "id": "ae600757-5a0a-4842-9e36-c5278041e6f4",
   "metadata": {},
   "outputs": [
    {
     "data": {
      "text/plain": [
       "[45, 67, 55, 95, 34, 25, 15, 51]"
      ]
     },
     "execution_count": 63,
     "metadata": {},
     "output_type": "execute_result"
    }
   ],
   "source": [
    "h"
   ]
  },
  {
   "cell_type": "code",
   "execution_count": null,
   "id": "5efebc7b-e9e1-4d52-99fa-0310c6c61c2e",
   "metadata": {},
   "outputs": [],
   "source": [
    "h=[]\n",
    "for i in num:\n",
    "    a=str(i)\n",
    "    b=a.append('5','9')\n",
    "    c=i"
   ]
  }
 ],
 "metadata": {
  "kernelspec": {
   "display_name": "Python [conda env:base] *",
   "language": "python",
   "name": "conda-base-py"
  },
  "language_info": {
   "codemirror_mode": {
    "name": "ipython",
    "version": 3
   },
   "file_extension": ".py",
   "mimetype": "text/x-python",
   "name": "python",
   "nbconvert_exporter": "python",
   "pygments_lexer": "ipython3",
   "version": "3.12.7"
  }
 },
 "nbformat": 4,
 "nbformat_minor": 5
}
