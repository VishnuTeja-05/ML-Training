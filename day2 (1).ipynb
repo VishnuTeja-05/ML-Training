{
 "cells": [
  {
   "cell_type": "code",
   "execution_count": 10,
   "id": "90b2eb90-d789-49b2-b14c-81006edb68f6",
   "metadata": {},
   "outputs": [
    {
     "name": "stdout",
     "output_type": "stream",
     "text": [
      "30\n",
      "-10\n",
      "200\n",
      "0.5\n",
      "10\n",
      "100000000000000000000\n",
      "0\n"
     ]
    }
   ],
   "source": [
    "# Operators in Python\n",
    "# Arithmetic Operators\n",
    "a=10\n",
    "b=20\n",
    "#Addition\n",
    "print(a+b)\n",
    "#Subtraction\n",
    "print(a-b)\n",
    "#Multiplication\n",
    "print(a*b)\n",
    "#Division\n",
    "print(a/b)\n",
    "#Modulus\n",
    "print(a%b)\n",
    "#Exponentiation\n",
    "print(a**b)\n",
    "#floordivision\n",
    "print(a//b)"
   ]
  },
  {
   "cell_type": "code",
   "execution_count": 1,
   "id": "9a96f62b-8371-4b1a-85f5-2f815d6356f4",
   "metadata": {},
   "outputs": [
    {
     "name": "stdout",
     "output_type": "stream",
     "text": [
      "False\n",
      "True\n",
      "False\n",
      "False\n",
      "True\n",
      "True\n"
     ]
    }
   ],
   "source": [
    "# Comparison Opertors\n",
    "a=10\n",
    "b=20\n",
    "c=(a==b)\n",
    "d=(a!=b)\n",
    "e=(a>b)\n",
    "f=(a>=b)\n",
    "g=(a<b)\n",
    "h=(a<=b)\n",
    "print(c)\n",
    "print(d)\n",
    "print(e)\n",
    "print(f)\n",
    "print(g)\n",
    "print(h)"
   ]
  },
  {
   "cell_type": "code",
   "execution_count": null,
   "id": "f82afdd7-9190-4d69-a68d-e881ecce2ca2",
   "metadata": {},
   "outputs": [],
   "source": [
    "# Logical Operators\n",
    "a=10\n",
    "c=(a>20 and a<3)\n",
    "d=(a<5 or a)"
   ]
  }
 ],
 "metadata": {
  "kernelspec": {
   "display_name": "Python 3 (ipykernel)",
   "language": "python",
   "name": "python3"
  },
  "language_info": {
   "codemirror_mode": {
    "name": "ipython",
    "version": 3
   },
   "file_extension": ".py",
   "mimetype": "text/x-python",
   "name": "python",
   "nbconvert_exporter": "python",
   "pygments_lexer": "ipython3",
   "version": "3.12.7"
  }
 },
 "nbformat": 4,
 "nbformat_minor": 5
}
